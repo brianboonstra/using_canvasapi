{
 "cells": [
  {
   "cell_type": "markdown",
   "id": "991d2008",
   "metadata": {},
   "source": [
    "# Assign Random Groups In Canvas"
   ]
  },
  {
   "cell_type": "code",
   "execution_count": null,
   "id": "renewable-assembly",
   "metadata": {
    "ExecuteTime": {
     "end_time": "2022-10-27T00:06:29.516923Z",
     "start_time": "2022-10-27T00:06:29.429112Z"
    }
   },
   "outputs": [],
   "source": [
    "import os\n",
    "import csv\n",
    "from canvasapi import Canvas\n"
   ]
  },
  {
   "cell_type": "code",
   "execution_count": null,
   "id": "bd2468fa",
   "metadata": {
    "ExecuteTime": {
     "end_time": "2022-10-27T00:18:59.655339Z",
     "start_time": "2022-10-27T00:18:59.653312Z"
    }
   },
   "outputs": [],
   "source": [
    "import collections\n",
    "import random\n",
    "import string"
   ]
  },
  {
   "cell_type": "code",
   "execution_count": null,
   "id": "d0ca6a9c",
   "metadata": {
    "ExecuteTime": {
     "end_time": "2022-10-27T00:16:48.567852Z",
     "start_time": "2022-10-27T00:16:48.565826Z"
    }
   },
   "outputs": [],
   "source": [
    "students_per_group = 5\n",
    "allow_uneven = True\n",
    "group_category_name = 'TheGroupProject'"
   ]
  },
  {
   "cell_type": "code",
   "execution_count": null,
   "id": "6144e231",
   "metadata": {
    "ExecuteTime": {
     "end_time": "2022-10-27T00:06:29.528316Z",
     "start_time": "2022-10-27T00:06:29.526294Z"
    }
   },
   "outputs": [],
   "source": [
    "token = MyPrivateKeys['Canvas']['token'] # Account->Settings->NewAccessToken"
   ]
  },
  {
   "cell_type": "code",
   "execution_count": null,
   "id": "47904342",
   "metadata": {
    "ExecuteTime": {
     "end_time": "2022-10-27T00:06:29.536462Z",
     "start_time": "2022-10-27T00:06:29.529784Z"
    }
   },
   "outputs": [],
   "source": [
    "MyPrivateKeys['Canvas']['site'], MyPrivateKeys['Canvas']['course_id']"
   ]
  },
  {
   "cell_type": "code",
   "execution_count": null,
   "id": "c7bdebf5",
   "metadata": {
    "ExecuteTime": {
     "end_time": "2022-10-27T00:06:29.874995Z",
     "start_time": "2022-10-27T00:06:29.537835Z"
    }
   },
   "outputs": [],
   "source": [
    "course = Canvas(MyPrivateKeys['Canvas']['site'], token).get_course(MyPrivateKeys['Canvas']['course_id'])"
   ]
  },
  {
   "cell_type": "code",
   "execution_count": null,
   "id": "nonprofit-poison",
   "metadata": {
    "ExecuteTime": {
     "end_time": "2022-10-27T00:06:32.083504Z",
     "start_time": "2022-10-27T00:06:29.876822Z"
    }
   },
   "outputs": [],
   "source": [
    "# Get Students\n",
    "enrollments = course.get_enrollments(state='active')\n",
    "# Build a map of student ID to their name\n",
    "id_to_name = dict( (e.user_id, e.user['name'])  for e in enrollments )"
   ]
  },
  {
   "cell_type": "code",
   "execution_count": null,
   "id": "6ca67346",
   "metadata": {
    "ExecuteTime": {
     "end_time": "2022-10-27T00:07:29.414363Z",
     "start_time": "2022-10-27T00:07:29.410393Z"
    }
   },
   "outputs": [],
   "source": [
    "id_by_role = collections.defaultdict(list)\n",
    "for e in enrollments:\n",
    "    if not e.user['name'].startswith(\"Test \"):\n",
    "        id_by_role[e.role].append((e.user_id,e.user['name']))\n",
    "[(r,len(id_by_role[r])) for r in id_by_role]"
   ]
  },
  {
   "cell_type": "code",
   "execution_count": null,
   "id": "9bc2dba5",
   "metadata": {
    "ExecuteTime": {
     "end_time": "2022-10-27T00:11:29.783471Z",
     "start_time": "2022-10-27T00:11:29.779887Z"
    }
   },
   "outputs": [],
   "source": [
    "students = []\n",
    "for e in enrollments:\n",
    "    if e.role=='StudentEnrollment' and not e.user['name'].startswith(\"Test \"):\n",
    "        students.append((e.user_id,e.user['name']))\n",
    "students[:3]"
   ]
  },
  {
   "cell_type": "code",
   "execution_count": null,
   "id": "10137de8",
   "metadata": {
    "ExecuteTime": {
     "end_time": "2022-10-27T00:17:01.769840Z",
     "start_time": "2022-10-27T00:17:01.766471Z"
    }
   },
   "outputs": [],
   "source": [
    "if not allow_uneven:\n",
    "    assert len(students) % students_per_group == 0\n",
    "\n",
    "num_groups = int(len(students) / students_per_group)\n",
    "\n",
    "if len(students) % students_per_group != 0:\n",
    "    num_groups += 1\n",
    "\n",
    "num_groups"
   ]
  },
  {
   "cell_type": "code",
   "execution_count": null,
   "id": "39e2dea9",
   "metadata": {
    "ExecuteTime": {
     "end_time": "2022-10-27T00:11:41.827739Z",
     "start_time": "2022-10-27T00:11:41.824733Z"
    }
   },
   "outputs": [],
   "source": [
    "rand_students = list(students)\n",
    "random.shuffle(rand_students)\n",
    "rand_students[:3]"
   ]
  },
  {
   "cell_type": "code",
   "execution_count": null,
   "id": "e813d730",
   "metadata": {},
   "outputs": [],
   "source": [
    "assert len(group_assignments) <= 26"
   ]
  },
  {
   "cell_type": "code",
   "execution_count": null,
   "id": "b2dc299e",
   "metadata": {
    "ExecuteTime": {
     "end_time": "2022-10-27T00:17:07.678454Z",
     "start_time": "2022-10-27T00:17:07.676108Z"
    }
   },
   "outputs": [],
   "source": [
    "# https://stackoverflow.com/questions/2130016/splitting-a-list-into-n-parts-of-approximately-equal-length\n",
    "def split(a, n):\n",
    "    k, m = divmod(len(a), n)\n",
    "    return (a[i*k+min(i, m):(i+1)*k+min(i+1, m)] for i in range(n))\n"
   ]
  },
  {
   "cell_type": "code",
   "execution_count": null,
   "id": "ecb817c1",
   "metadata": {
    "ExecuteTime": {
     "end_time": "2022-10-27T00:23:42.067606Z",
     "start_time": "2022-10-27T00:23:42.063969Z"
    }
   },
   "outputs": [],
   "source": [
    "group_assignments = list(split(rand_students, num_groups))\n",
    "group_assignments"
   ]
  },
  {
   "cell_type": "markdown",
   "id": "65a8f463",
   "metadata": {},
   "source": [
    "### Assign Groups"
   ]
  },
  {
   "cell_type": "code",
   "execution_count": null,
   "id": "61d7dcfe",
   "metadata": {
    "ExecuteTime": {
     "end_time": "2022-10-27T00:30:49.043223Z",
     "start_time": "2022-10-27T00:30:48.635354Z"
    }
   },
   "outputs": [],
   "source": [
    "gcs = [_c for _c in course.get_group_categories() if _c.name == group_category_name]\n",
    "assert len(gcs) == 1\n",
    "\n",
    "gc = gcs[0]\n",
    "assert len(list(gc.get_groups())) == 0\n",
    "\n",
    "gc"
   ]
  },
  {
   "cell_type": "code",
   "execution_count": null,
   "id": "f207098c",
   "metadata": {
    "ExecuteTime": {
     "end_time": "2022-10-27T00:30:18.855619Z",
     "start_time": "2022-10-27T00:30:18.850777Z"
    }
   },
   "outputs": [],
   "source": [
    "rev_let = reversed(list(string.ascii_uppercase))\n",
    "to_iterate = list(zip(rev_let, group_assignments))\n",
    "to_iterate"
   ]
  },
  {
   "cell_type": "code",
   "execution_count": null,
   "id": "8d986965",
   "metadata": {
    "ExecuteTime": {
     "end_time": "2022-10-27T00:32:05.657601Z",
     "start_time": "2022-10-27T00:31:56.717064Z"
    }
   },
   "outputs": [],
   "source": [
    "gp = memb = 'off'\n",
    "\n",
    "for lt, group_members in to_iterate:\n",
    "    group_name = f\"{group_category_name}_{lt}\"\n",
    "    print(group_name)\n",
    "    gp = gc.create_group(name=group_name, description=f\"B Boonstra Randomly Assigned Group {lt}\")\n",
    "    print(gp)\n",
    "    for uid, uname in group_members:\n",
    "        print(uname)\n",
    "        memb = gp.create_membership(user=uid)\n",
    "        print(memb)\n",
    "    print('------')\n",
    "    "
   ]
  },
  {
   "cell_type": "code",
   "execution_count": null,
   "id": "7fdc4c90",
   "metadata": {},
   "outputs": [],
   "source": []
  }
 ],
 "metadata": {
  "kernelspec": {
   "display_name": "Python 3 (ipykernel)",
   "language": "python",
   "name": "python3"
  },
  "language_info": {
   "codemirror_mode": {
    "name": "ipython",
    "version": 3
   },
   "file_extension": ".py",
   "mimetype": "text/x-python",
   "name": "python",
   "nbconvert_exporter": "python",
   "pygments_lexer": "ipython3",
   "version": "3.10.5"
  }
 },
 "nbformat": 4,
 "nbformat_minor": 5
}
